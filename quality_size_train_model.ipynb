{
 "cells": [
  {
   "cell_type": "code",
   "execution_count": 1,
   "metadata": {},
   "outputs": [
    {
     "name": "stdout",
     "output_type": "stream",
     "text": [
      "right_list_shape: (159, 1)\n",
      "left_list_shape: (159, 1)\n"
     ]
    }
   ],
   "source": [
    "#導入所需套件\n",
    "import pandas as pd\n",
    "import numpy as np\n",
    "import os\n",
    "\n",
    "path='Train_DataSet\\\\'\n",
    "file_path=pd.read_excel(\"Train_Quality_DataSet\\\\quality_size.xlsx\")['key']   #將file夾名稱放進file_path\n",
    "right_list=list()\n",
    "left_list=list()\n",
    "\n",
    "#使用for迴圈設定完整的.xlsx路徑，讀進raw data後放入right_list及left_list\n",
    "for i in file_path:\n",
    "    dat_path=path+\"file_\"+str(i)\n",
    "#     print(dat_path)\n",
    "    excel_path=os.listdir(dat_path)\n",
    "    for j in excel_path:\n",
    "        if j=='pressure.xlsx':\n",
    "            #print(dat_path+\"\\\\\"+j)\n",
    "            A=pd.read_excel(dat_path+\"\\\\\"+j)\n",
    "            A=A.drop(['Unnamed: 0','TimeStamp'], axis=1)\n",
    "#               print(A.shape)                        \n",
    "            for k in A:\n",
    "                if k=='pressure_right':\n",
    "                    right_list.append([A[k]])\n",
    "                elif k=='pressure_left':\n",
    "                    left_list.append([A[k]])\n",
    "print(\"right_list_shape:\",str(np.array(right_list).shape))\n",
    "print(\"left_list_shape:\",str(np.array(left_list).shape))"
   ]
  },
  {
   "cell_type": "code",
   "execution_count": 2,
   "metadata": {},
   "outputs": [
    {
     "name": "stderr",
     "output_type": "stream",
     "text": [
      "Using TensorFlow backend.\n"
     ]
    },
    {
     "name": "stdout",
     "output_type": "stream",
     "text": [
      "right_list_shape: (159, 1, 7443)\n",
      "right_list_shape: (159, 7443)\n",
      "left_list_shape: (159, 1, 7443)\n",
      "left_list_shape: (159, 7443)\n"
     ]
    }
   ],
   "source": [
    "#導入所需套件\n",
    "from keras.preprocessing import sequence\n",
    "\n",
    "#使用pad_sequences進行data補值，並轉換list維度\n",
    "cnt=0\n",
    "for i in right_list:\n",
    "    right_list[cnt]=sequence.pad_sequences(i,dtype='float64',maxlen=7443)          \n",
    "    cnt+=1\n",
    "print(\"right_list_shape:\",str(np.array(right_list).shape))                                  \n",
    "right_list = np.reshape(right_list,(-1,7443))                           #三維轉二維\n",
    "print(\"right_list_shape:\",str(np.array(right_list).shape))              \n",
    "\n",
    "cnt=0\n",
    "for i in left_list:\n",
    "    left_list[cnt]=sequence.pad_sequences(i,dtype='float64',maxlen=7443)          \n",
    "    cnt+=1\n",
    "print(\"left_list_shape:\",str(np.array(left_list).shape))                                  \n",
    "left_list = np.reshape(left_list,(-1,7443))                           #三維轉二維\n",
    "print(\"left_list_shape:\",str(np.array(left_list).shape))      "
   ]
  },
  {
   "cell_type": "code",
   "execution_count": 3,
   "metadata": {},
   "outputs": [
    {
     "name": "stdout",
     "output_type": "stream",
     "text": [
      "right_list[158]: [0.         0.         0.         ... 0.00929615 0.00929615 0.00929615]\n",
      "left_list[158]: [0.         0.         0.         ... 0.00837989 0.00837989 0.00837989]\n"
     ]
    }
   ],
   "source": [
    "#導入所需套件\n",
    "from sklearn import preprocessing\n",
    "\n",
    "#對data進行正規化計算\n",
    "right_list=right_list/right_list.max()\n",
    "print(\"right_list[158]:\",right_list[158])\n",
    "\n",
    "left_list=left_list/left_list.max()\n",
    "print(\"left_list[158]:\",left_list[158])"
   ]
  },
  {
   "cell_type": "code",
   "execution_count": 4,
   "metadata": {},
   "outputs": [
    {
     "name": "stdout",
     "output_type": "stream",
     "text": [
      "right_labels_shape: (159,)\n",
      "right_labels: [36.14 36.16 36.18 36.18 36.2  36.22 36.15 36.28 36.16 36.15 36.19 36.17\n",
      " 36.14 36.22 36.16 36.17 36.16 36.2  36.18 36.16 36.23 36.19 36.13 36.16\n",
      " 36.14 36.14 36.16 36.18 36.18 36.17 36.16 36.15 36.15 36.16 36.14 36.16\n",
      " 36.15 36.16 36.11 36.19 36.14 36.16 36.2  36.16 36.13 36.17 36.18 36.16\n",
      " 36.14 36.2  36.07 36.18 36.18 36.15 36.15 36.2  36.04 36.08 36.16 36.2\n",
      " 36.1  36.16 36.2  36.16 36.18 36.18 36.19 36.16 36.13 36.17 36.19 36.18\n",
      " 36.15 36.14 36.11 36.16 36.18 36.22 36.18 36.2  36.19 36.17 36.18 36.19\n",
      " 36.13 36.16 36.21 36.18 36.25 36.16 36.22 36.2  36.23 36.1  36.18 36.12\n",
      " 36.14 36.12 36.16 36.17 36.18 36.17 36.2  36.17 36.17 36.18 36.12 36.1\n",
      " 36.17 36.16 36.17 36.18 36.18 36.05 36.18 36.23 36.07 36.18 36.19 36.2\n",
      " 36.19 36.19 36.19 36.17 36.21 36.2  36.19 36.18 36.15 36.17 36.14 36.21\n",
      " 36.14 36.24 36.19 36.17 36.21 36.13 36.18 36.16 36.17 36.17 36.15 36.2\n",
      " 36.17 36.17 36.13 36.14 36.15 36.17 36.21 36.21 36.03 36.2  36.16 36.13\n",
      " 36.16 36.14 36.15]\n",
      "left_labels_shape: (159,)\n",
      "left_labels: [36.05 36.15 36.16 36.16 36.16 36.19 36.09 36.24 36.09 36.13 36.13 36.16\n",
      " 36.1  36.15 36.18 36.07 36.11 36.16 36.1  36.09 36.21 36.17 36.1  36.17\n",
      " 36.13 36.06 36.15 36.18 36.1  36.16 36.12 36.08 36.13 36.13 36.12 36.13\n",
      " 36.06 36.09 36.08 36.13 36.09 36.12 36.15 36.09 36.06 36.18 36.14 36.11\n",
      " 36.14 36.15 35.99 36.15 36.12 36.09 36.1  36.15 35.96 35.96 36.09 36.14\n",
      " 36.04 36.1  36.19 36.07 36.15 36.1  36.13 36.09 36.07 36.1  36.15 36.09\n",
      " 36.18 36.08 36.11 36.2  36.2  36.14 36.18 36.1  36.13 36.09 36.08 36.19\n",
      " 36.14 36.12 36.14 36.16 36.15 36.06 36.08 36.14 36.21 36.02 36.12 36.05\n",
      " 36.19 36.08 36.12 36.1  36.11 36.14 36.15 36.09 36.13 36.17 36.06 36.12\n",
      " 36.1  36.1  36.11 36.15 36.1  35.98 36.08 36.2  36.02 36.17 36.16 36.14\n",
      " 36.16 36.12 36.18 36.09 36.16 36.09 36.13 36.1  36.08 36.12 36.06 36.19\n",
      " 36.08 36.23 36.18 36.11 36.17 36.07 36.08 36.13 36.11 36.16 36.12 36.18\n",
      " 36.08 36.15 36.03 36.08 36.1  36.26 36.18 36.18 36.03 36.1  36.12 36.05\n",
      " 36.15 36.07 36.11]\n"
     ]
    }
   ],
   "source": [
    "#導入所需套件\n",
    "from sklearn.model_selection import train_test_split\n",
    "from sklearn.utils import shuffle\n",
    "\n",
    "#讀進quality_size.xlsx\n",
    "path='Train_Quality_DataSet\\\\quality_size.xlsx'\n",
    "PN=pd.read_excel(path)\n",
    "\n",
    "#labels設定\n",
    "num_of_samples=right_list.shape[0]\n",
    "right_labels=np.zeros((num_of_samples,),dtype='float64')\n",
    "left_labels=np.zeros((num_of_samples,),dtype='float64')\n",
    "cnt=0\n",
    "for i in PN['right']:\n",
    "    right_labels[cnt]=i\n",
    "    cnt+=1\n",
    "print(\"right_labels_shape:\",right_labels.shape)\n",
    "print(\"right_labels:\",right_labels)\n",
    "\n",
    "cnt=0\n",
    "for i in PN['left']:\n",
    "    left_labels[cnt]=i\n",
    "    cnt+=1\n",
    "print(\"left_labels_shape:\",left_labels.shape)\n",
    "print(\"left_labels:\",left_labels)\n",
    "\n",
    "#使用shuffle對feature、labels進行亂數配對\n",
    "#切割訓練集成訓練集及驗證集\n",
    "x_right,y_right=shuffle(right_list,right_labels,random_state=2)\n",
    "x_right_train,x_right_test,y_right_train,y_right_test_=train_test_split(x_right,y_right,test_size=0.2,random_state=2)\n",
    "\n",
    "x_left,y_left=shuffle(left_list,left_labels,random_state=2)\n",
    "x_left_train,x_left_test,y_left_train,y_left_test=train_test_split(x_left,y_left,test_size=0.2,random_state=2)"
   ]
  },
  {
   "cell_type": "code",
   "execution_count": 6,
   "metadata": {},
   "outputs": [
    {
     "name": "stdout",
     "output_type": "stream",
     "text": [
      "RMSE of Rihgt test size predict: 0.03460868071088808\n",
      "RMSE of Left test size predict: 0.05389671432651268\n"
     ]
    }
   ],
   "source": [
    "#導入所需套件\n",
    "from sklearn.linear_model import LinearRegression\n",
    "from sklearn.ensemble import RandomForestRegressor\n",
    "from sklearn.metrics import mean_squared_error\n",
    "    \n",
    "#使用LinearRegression()訓練並預測\n",
    "reg1 = LinearRegression()\n",
    "reg1.fit(x_right_train,y_right_train)\n",
    "predict1=reg1.predict(x_right_test)\n",
    "print(\"RMSE of Rihgt test size predict:\",np.sqrt(mean_squared_error(y_right_test_,predict1)))\n",
    "reg1.fit(x_right,y_right)\n",
    "\n",
    "reg2 = LinearRegression()\n",
    "reg2.fit(x_left_train,y_left_train)\n",
    "predict2=reg2.predict(x_left_test)\n",
    "print(\"RMSE of Left test size predict:\",np.sqrt(mean_squared_error(y_left_test,predict2)))\n",
    "reg2.fit(x_left,y_left)"
   ]
  },
  {
   "cell_type": "code",
   "execution_count": 7,
   "metadata": {},
   "outputs": [
    {
     "name": "stdout",
     "output_type": "stream",
     "text": [
      "[36.2383241  36.16258574 36.20248923 36.15986438 36.21061447 36.17082048\n",
      " 36.2045835  36.17805701 36.15541594 36.1506122  36.14163379 36.19171919\n",
      " 36.16951222 36.17351221 36.23496621 36.14676579 36.23844244 36.16078304\n",
      " 36.18435734 36.17997768 36.16343414 36.21929425 36.14877493 36.20890845\n",
      " 36.1329762  36.19795502 36.11827624 36.1580255  36.15343762 36.16040882\n",
      " 36.14609914 36.19200609 36.15564855 36.16737171 36.16401511 36.16866416\n",
      " 36.16753667 36.16218328 36.20419671]\n",
      "[36.19 36.19 36.19 36.17 36.21 36.2  36.19 36.18 36.15 36.17 36.14 36.21\n",
      " 36.14 36.24 36.19 36.17 36.21 36.13 36.18 36.16 36.17 36.17 36.15 36.2\n",
      " 36.17 36.17 36.13 36.14 36.15 36.17 36.21 36.21 36.03 36.2  36.16 36.13\n",
      " 36.16 36.14 36.15]\n"
     ]
    }
   ],
   "source": [
    "# chcek test predict size\n",
    "\n",
    "answer=reg1.predict(x_left_test)\n",
    "print(answer[0:5])\n",
    "print(y_left_test[0:5])"
   ]
  },
  {
   "cell_type": "code",
   "execution_count": 7,
   "metadata": {},
   "outputs": [
    {
     "name": "stderr",
     "output_type": "stream",
     "text": [
      "D:\\Anaconda3\\lib\\site-packages\\sklearn\\externals\\joblib\\__init__.py:15: DeprecationWarning: sklearn.externals.joblib is deprecated in 0.21 and will be removed in 0.23. Please import this functionality directly from joblib, which can be installed with: pip install joblib. If this warning is raised when loading pickled models, you may need to re-serialize those models with scikit-learn 0.21+.\n",
      "  warnings.warn(msg, category=DeprecationWarning)\n"
     ]
    },
    {
     "data": {
      "text/plain": [
       "['left_size.pkl']"
      ]
     },
     "execution_count": 7,
     "metadata": {},
     "output_type": "execute_result"
    }
   ],
   "source": [
    "#導入所需套件\n",
    "from sklearn.externals import joblib\n",
    "\n",
    "#model儲存\n",
    "joblib.dump(reg1,'right_size.pkl')\n",
    "joblib.dump(reg2,'left_size.pkl')"
   ]
  },
  {
   "cell_type": "code",
   "execution_count": null,
   "metadata": {},
   "outputs": [],
   "source": []
  }
 ],
 "metadata": {
  "kernelspec": {
   "display_name": "Python 3",
   "language": "python",
   "name": "python3"
  },
  "language_info": {
   "codemirror_mode": {
    "name": "ipython",
    "version": 3
   },
   "file_extension": ".py",
   "mimetype": "text/x-python",
   "name": "python",
   "nbconvert_exporter": "python",
   "pygments_lexer": "ipython3",
   "version": "3.7.3"
  }
 },
 "nbformat": 4,
 "nbformat_minor": 2
}

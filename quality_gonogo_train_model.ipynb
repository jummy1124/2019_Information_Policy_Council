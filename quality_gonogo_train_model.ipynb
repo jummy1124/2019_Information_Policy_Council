{
 "cells": [
  {
   "cell_type": "code",
   "execution_count": 1,
   "metadata": {},
   "outputs": [
    {
     "name": "stdout",
     "output_type": "stream",
     "text": [
      "right_list_shape: (159, 1)\n",
      "left_list_shape: (159, 1)\n"
     ]
    }
   ],
   "source": [
    "#導入所需套件\n",
    "import pandas as pd\n",
    "import numpy as np\n",
    "import os\n",
    "\n",
    "path='Train_DataSet\\\\'\n",
    "file_path=pd.read_excel(\"Train_Quality_DataSet\\\\quality_size.xlsx\")['key']     #將file夾名稱放進file_path\n",
    "right_list=list()\n",
    "left_list=list()\n",
    "\n",
    "#使用for迴圈設定完整的.xlsx路徑，讀進raw data後放入right_list及left_list\n",
    "for i in file_path:\n",
    "    dat_path=path+\"file_\"+str(i)\n",
    "#     print(dat_path)\n",
    "    excel_path=os.listdir(dat_path)\n",
    "    for j in excel_path:\n",
    "        if j=='pressure.xlsx':\n",
    "            #print(dat_path+\"\\\\\"+j)\n",
    "            A=pd.read_excel(dat_path+\"\\\\\"+j)\n",
    "            A=A.drop(['Unnamed: 0','TimeStamp'], axis=1)\n",
    "#               print(A.shape)                        \n",
    "            for k in A:\n",
    "                if k=='pressure_right':\n",
    "                    right_list.append([A[k]])\n",
    "                elif k=='pressure_left':\n",
    "                    left_list.append([A[k]])\n",
    "print(\"right_list_shape:\",str(np.array(right_list).shape))\n",
    "print(\"left_list_shape:\",str(np.array(left_list).shape))"
   ]
  },
  {
   "cell_type": "code",
   "execution_count": 2,
   "metadata": {},
   "outputs": [
    {
     "name": "stderr",
     "output_type": "stream",
     "text": [
      "Using TensorFlow backend.\n"
     ]
    },
    {
     "name": "stdout",
     "output_type": "stream",
     "text": [
      "right_list_shape: (159, 1, 7443)\n",
      "right_list_shape: (159, 7443)\n",
      "left_list_shape: (159, 1, 7443)\n",
      "left_list_shape: (159, 7443)\n"
     ]
    }
   ],
   "source": [
    "#導入所需套件\n",
    "from keras.preprocessing import sequence\n",
    "\n",
    "#使用pad_sequences進行data補值，並轉換list維度\n",
    "cnt=0\n",
    "for i in right_list:\n",
    "    right_list[cnt]=sequence.pad_sequences(i,dtype='float64',maxlen=7443)          \n",
    "    cnt+=1\n",
    "print(\"right_list_shape:\",str(np.array(right_list).shape))                                  \n",
    "right_list = np.reshape(right_list,(-1,7443))                           #三維轉二維\n",
    "print(\"right_list_shape:\",str(np.array(right_list).shape))              \n",
    "\n",
    "cnt=0\n",
    "for i in left_list:\n",
    "    left_list[cnt]=sequence.pad_sequences(i,dtype='float64',maxlen=7443)          \n",
    "    cnt+=1\n",
    "print(\"left_list_shape:\",str(np.array(left_list).shape))                                  \n",
    "left_list = np.reshape(left_list,(-1,7443))                           #三維轉二維\n",
    "print(\"left_list_shape:\",str(np.array(left_list).shape))      "
   ]
  },
  {
   "cell_type": "code",
   "execution_count": 3,
   "metadata": {},
   "outputs": [
    {
     "data": {
      "text/plain": [
       "(318, 7443)"
      ]
     },
     "execution_count": 3,
     "metadata": {},
     "output_type": "execute_result"
    }
   ],
   "source": [
    "#合併right_list和left_list為feature\n",
    "right_df=pd.DataFrame(right_list)\n",
    "left_df=pd.DataFrame(left_list)\n",
    "feature = pd.concat([right_df, left_df], axis=0)\n",
    "feature.shape"
   ]
  },
  {
   "cell_type": "code",
   "execution_count": 4,
   "metadata": {},
   "outputs": [],
   "source": [
    "#導入所需套件\n",
    "from sklearn.utils import shuffle\n",
    "\n",
    "labels=np.ones((318,),dtype='int64')\n",
    "lbael_xlsx=pd.read_excel('Train_Quality_DataSet\\\\quality_size.xlsx')         #讀進quality_size.xlsx\n",
    "\n",
    "#labels設定\n",
    "for i in range(0,159):\n",
    "    if lbael_xlsx['right'][i]>36.2:\n",
    "        labels[i]=0\n",
    "    \n",
    "for i in range(159,318):\n",
    "    if lbael_xlsx['left'][i-159]>36.2:\n",
    "        labels[i]=0\n",
    "        \n",
    "#labels轉為DataFrame\n",
    "labels=pd.DataFrame(labels)"
   ]
  },
  {
   "cell_type": "code",
   "execution_count": 5,
   "metadata": {},
   "outputs": [],
   "source": [
    "#導入所需套件\n",
    "from sklearn.model_selection import train_test_split,cross_val_score\n",
    "\n",
    "#使用shuffle對feature、labels進行亂數配對\n",
    "x,y=shuffle(feature,labels,random_state=2)\n",
    "x_train,x_test,y_train,y_test=train_test_split(x,y,test_size=0.2,random_state=2)"
   ]
  },
  {
   "cell_type": "code",
   "execution_count": 6,
   "metadata": {},
   "outputs": [
    {
     "name": "stderr",
     "output_type": "stream",
     "text": [
      "D:\\Anaconda3\\lib\\site-packages\\sklearn\\utils\\validation.py:724: DataConversionWarning: A column-vector y was passed when a 1d array was expected. Please change the shape of y to (n_samples, ), for example using ravel().\n",
      "  y = column_or_1d(y, warn=True)\n",
      "D:\\Anaconda3\\lib\\site-packages\\sklearn\\utils\\validation.py:724: DataConversionWarning: A column-vector y was passed when a 1d array was expected. Please change the shape of y to (n_samples, ), for example using ravel().\n",
      "  y = column_or_1d(y, warn=True)\n",
      "D:\\Anaconda3\\lib\\site-packages\\sklearn\\utils\\validation.py:724: DataConversionWarning: A column-vector y was passed when a 1d array was expected. Please change the shape of y to (n_samples, ), for example using ravel().\n",
      "  y = column_or_1d(y, warn=True)\n",
      "D:\\Anaconda3\\lib\\site-packages\\sklearn\\utils\\validation.py:724: DataConversionWarning: A column-vector y was passed when a 1d array was expected. Please change the shape of y to (n_samples, ), for example using ravel().\n",
      "  y = column_or_1d(y, warn=True)\n",
      "D:\\Anaconda3\\lib\\site-packages\\sklearn\\utils\\validation.py:724: DataConversionWarning: A column-vector y was passed when a 1d array was expected. Please change the shape of y to (n_samples, ), for example using ravel().\n",
      "  y = column_or_1d(y, warn=True)\n",
      "D:\\Anaconda3\\lib\\site-packages\\sklearn\\utils\\validation.py:724: DataConversionWarning: A column-vector y was passed when a 1d array was expected. Please change the shape of y to (n_samples, ), for example using ravel().\n",
      "  y = column_or_1d(y, warn=True)\n"
     ]
    },
    {
     "name": "stdout",
     "output_type": "stream",
     "text": [
      "Cross val score: [0.92307692 0.9375     0.93650794 0.93650794 0.93650794]\n",
      "Average Cross val score: 0.9340201465201465\n"
     ]
    }
   ],
   "source": [
    "#導入所需套件\n",
    "from sklearn.linear_model import LogisticRegression\n",
    "from sklearn.svm import SVC\n",
    "from sklearn.neighbors import KNeighborsClassifier\n",
    "\n",
    "#使用LogisticRegression()訓練並預測\n",
    "model=LogisticRegression(solver ='lbfgs',class_weight={0:0.1,1:0.9},max_iter=2000)\n",
    "model=SVC(kernel ='sigmoid',gamma ='scale')\n",
    "score=cross_val_score(model,x,y,cv=5)\n",
    "model.fit(x,y)\n",
    "print(\"Cross val score:\",score)#[0.92307692 0.953125   0.9047619  0.93650794 0.95238095]\n",
    "print(\"Average Cross val score:\",score.mean())#0.9339705433455434"
   ]
  },
  {
   "cell_type": "code",
   "execution_count": 7,
   "metadata": {},
   "outputs": [
    {
     "name": "stderr",
     "output_type": "stream",
     "text": [
      "D:\\Anaconda3\\lib\\site-packages\\sklearn\\externals\\joblib\\__init__.py:15: DeprecationWarning: sklearn.externals.joblib is deprecated in 0.21 and will be removed in 0.23. Please import this functionality directly from joblib, which can be installed with: pip install joblib. If this warning is raised when loading pickled models, you may need to re-serialize those models with scikit-learn 0.21+.\n",
      "  warnings.warn(msg, category=DeprecationWarning)\n"
     ]
    },
    {
     "data": {
      "text/plain": [
       "['gonogo_model.pkl']"
      ]
     },
     "execution_count": 7,
     "metadata": {},
     "output_type": "execute_result"
    }
   ],
   "source": [
    "#導入所需套件\n",
    "from sklearn.externals import joblib\n",
    "\n",
    "#模型儲存\n",
    "joblib.dump(model,'gonogo_model.pkl')"
   ]
  }
 ],
 "metadata": {
  "kernelspec": {
   "display_name": "Python 3",
   "language": "python",
   "name": "python3"
  },
  "language_info": {
   "codemirror_mode": {
    "name": "ipython",
    "version": 3
   },
   "file_extension": ".py",
   "mimetype": "text/x-python",
   "name": "python",
   "nbconvert_exporter": "python",
   "pygments_lexer": "ipython3",
   "version": "3.7.3"
  }
 },
 "nbformat": 4,
 "nbformat_minor": 2
}
